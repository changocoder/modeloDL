{
  "nbformat": 4,
  "nbformat_minor": 0,
  "metadata": {
    "colab": {
      "name": "thesisfinal.ipynb",
      "version": "0.3.2",
      "provenance": [],
      "collapsed_sections": []
    },
    "kernelspec": {
      "name": "python3",
      "display_name": "Python 3"
    },
    "accelerator": "GPU"
  },
  "cells": [
    {
      "cell_type": "code",
      "metadata": {
        "id": "sJKa8Q2ESaJD",
        "colab_type": "code",
        "outputId": "11ae81f9-0814-4cc5-9a22-869522c680eb",
        "colab": {
          "base_uri": "https://localhost:8080/",
          "height": 404
        }
      },
      "source": [
        "!wget https://www.dropbox.com/s/cacix53dhpo05mg/all_mias_scans.h5\n"
      ],
      "execution_count": 0,
      "outputs": [
        {
          "output_type": "stream",
          "text": [
            "--2019-07-30 12:00:42--  https://www.dropbox.com/s/cacix53dhpo05mg/all_mias_scans.h5\n",
            "Resolving www.dropbox.com (www.dropbox.com)... 162.125.81.1, 2620:100:6031:1::a27d:5101\n",
            "Connecting to www.dropbox.com (www.dropbox.com)|162.125.81.1|:443... connected.\n",
            "HTTP request sent, awaiting response... 301 Moved Permanently\n",
            "Location: /s/raw/cacix53dhpo05mg/all_mias_scans.h5 [following]\n",
            "--2019-07-30 12:00:42--  https://www.dropbox.com/s/raw/cacix53dhpo05mg/all_mias_scans.h5\n",
            "Reusing existing connection to www.dropbox.com:443.\n",
            "HTTP request sent, awaiting response... 302 Found\n",
            "Location: https://ucd8ce08d15f85dcf5116ac0d7a4.dl.dropboxusercontent.com/cd/0/inline/AlqgZ9N7Lbo0GCoTaKbDHSN9T_mubAyAehhuSc1c2fX1PWYJKRUGUr_gkY7SP4n0TBOfw-kk1BJ0veNGTg5oTk3mXXe1rSsx8l3mUTeO0i4bLQ/file# [following]\n",
            "--2019-07-30 12:00:43--  https://ucd8ce08d15f85dcf5116ac0d7a4.dl.dropboxusercontent.com/cd/0/inline/AlqgZ9N7Lbo0GCoTaKbDHSN9T_mubAyAehhuSc1c2fX1PWYJKRUGUr_gkY7SP4n0TBOfw-kk1BJ0veNGTg5oTk3mXXe1rSsx8l3mUTeO0i4bLQ/file\n",
            "Resolving ucd8ce08d15f85dcf5116ac0d7a4.dl.dropboxusercontent.com (ucd8ce08d15f85dcf5116ac0d7a4.dl.dropboxusercontent.com)... 162.125.81.6, 2620:100:6031:6::a27d:5106\n",
            "Connecting to ucd8ce08d15f85dcf5116ac0d7a4.dl.dropboxusercontent.com (ucd8ce08d15f85dcf5116ac0d7a4.dl.dropboxusercontent.com)|162.125.81.6|:443... connected.\n",
            "HTTP request sent, awaiting response... 200 OK\n",
            "Length: 105073120 (100M) [text/plain]\n",
            "Saving to: ‘all_mias_scans.h5’\n",
            "\n",
            "all_mias_scans.h5   100%[===================>] 100.21M  47.4MB/s    in 2.1s    \n",
            "\n",
            "2019-07-30 12:00:46 (47.4 MB/s) - ‘all_mias_scans.h5’ saved [105073120/105073120]\n",
            "\n"
          ],
          "name": "stdout"
        }
      ]
    },
    {
      "cell_type": "code",
      "metadata": {
        "id": "Slisznq6heZM",
        "colab_type": "code",
        "outputId": "14777503-47a1-4702-ec3b-c5eea3a9968d",
        "colab": {
          "base_uri": "https://localhost:8080/",
          "height": 127
        }
      },
      "source": [
        "!ls -al"
      ],
      "execution_count": 0,
      "outputs": [
        {
          "output_type": "stream",
          "text": [
            "total 102628\n",
            "drwxr-xr-x 1 root root      4096 Jul 30 12:00 .\n",
            "drwxr-xr-x 1 root root      4096 Jul 30 11:59 ..\n",
            "-rw-r--r-- 1 root root 105073120 Jul 30 12:00 all_mias_scans.h5\n",
            "drwxr-xr-x 1 root root      4096 Jul 19 16:14 .config\n",
            "drwxr-xr-x 1 root root      4096 Jul 19 16:14 sample_data\n"
          ],
          "name": "stdout"
        }
      ]
    },
    {
      "cell_type": "code",
      "metadata": {
        "id": "O-GX4Q4cZawE",
        "colab_type": "code",
        "outputId": "7099c480-2471-4dfd-afef-e46c63097406",
        "colab": {
          "base_uri": "https://localhost:8080/",
          "height": 478
        }
      },
      "source": [
        "!wget https://www.dropbox.com/s/bcq1snyq4u15qnz/mammo_result_weights.best.floyd220120191700.hdf5"
      ],
      "execution_count": 0,
      "outputs": [
        {
          "output_type": "stream",
          "text": [
            "--2019-07-30 12:06:49--  https://www.dropbox.com/s/bcq1snyq4u15qnz/mammo_result_weights.best.floyd220120191700.hdf5\n",
            "Resolving www.dropbox.com (www.dropbox.com)... 162.125.81.1, 2620:100:6031:1::a27d:5101\n",
            "Connecting to www.dropbox.com (www.dropbox.com)|162.125.81.1|:443... connected.\n",
            "HTTP request sent, awaiting response... 301 Moved Permanently\n",
            "Location: /s/raw/bcq1snyq4u15qnz/mammo_result_weights.best.floyd220120191700.hdf5 [following]\n",
            "--2019-07-30 12:06:49--  https://www.dropbox.com/s/raw/bcq1snyq4u15qnz/mammo_result_weights.best.floyd220120191700.hdf5\n",
            "Reusing existing connection to www.dropbox.com:443.\n",
            "HTTP request sent, awaiting response... 302 Found\n",
            "Location: https://uc977ffaf8f5dabd6071d0aafe0f.dl.dropboxusercontent.com/cd/0/inline/Alrgw3cXYX9Ymp0VSXHSZTjct_7Y_7QnGwze5_WB2i95LcCu1auAZ-vtUeR6tu-BAloRL7FomrKBC-zxWf9oJPR6AWLFzDJDGFKyVyvfeWn29g/file# [following]\n",
            "--2019-07-30 12:06:49--  https://uc977ffaf8f5dabd6071d0aafe0f.dl.dropboxusercontent.com/cd/0/inline/Alrgw3cXYX9Ymp0VSXHSZTjct_7Y_7QnGwze5_WB2i95LcCu1auAZ-vtUeR6tu-BAloRL7FomrKBC-zxWf9oJPR6AWLFzDJDGFKyVyvfeWn29g/file\n",
            "Resolving uc977ffaf8f5dabd6071d0aafe0f.dl.dropboxusercontent.com (uc977ffaf8f5dabd6071d0aafe0f.dl.dropboxusercontent.com)... 162.125.81.6, 2620:100:6031:6::a27d:5106\n",
            "Connecting to uc977ffaf8f5dabd6071d0aafe0f.dl.dropboxusercontent.com (uc977ffaf8f5dabd6071d0aafe0f.dl.dropboxusercontent.com)|162.125.81.6|:443... connected.\n",
            "HTTP request sent, awaiting response... 302 FOUND\n",
            "Location: /cd/0/inline2/AlpLR8m4xmQ3U1ddCffdOCQkifjYq9vK9E5WbX-upmaPR6FGdJRzpAgT7xIsWSZBPmUPPKzvjk3ZBbiE1yNfiecW4IzxVQJrJRIQam1aqAIdqh8R6NFLy1u4jJvkBaspCqF5CZU9axFMuryjYLQ8jAmUxVB_-20QQHywiY6eG7Rl4wvkEB3yIy69EZ6mXwpbdScP711g58s3itWuUSXJs8BABvTTBHVm2U81zwWr_HxQyZs2d0iQcUpu6A0vV_nLxyMuJx8-uQ5xvsWEzVpkk-bimOdKPgzhkQYK3GYA4vMJoX7GdD_nMNqhD2kl19ibElvXRLvkfTANByz3Chv7KTLm/file [following]\n",
            "--2019-07-30 12:06:50--  https://uc977ffaf8f5dabd6071d0aafe0f.dl.dropboxusercontent.com/cd/0/inline2/AlpLR8m4xmQ3U1ddCffdOCQkifjYq9vK9E5WbX-upmaPR6FGdJRzpAgT7xIsWSZBPmUPPKzvjk3ZBbiE1yNfiecW4IzxVQJrJRIQam1aqAIdqh8R6NFLy1u4jJvkBaspCqF5CZU9axFMuryjYLQ8jAmUxVB_-20QQHywiY6eG7Rl4wvkEB3yIy69EZ6mXwpbdScP711g58s3itWuUSXJs8BABvTTBHVm2U81zwWr_HxQyZs2d0iQcUpu6A0vV_nLxyMuJx8-uQ5xvsWEzVpkk-bimOdKPgzhkQYK3GYA4vMJoX7GdD_nMNqhD2kl19ibElvXRLvkfTANByz3Chv7KTLm/file\n",
            "Reusing existing connection to uc977ffaf8f5dabd6071d0aafe0f.dl.dropboxusercontent.com:443.\n",
            "HTTP request sent, awaiting response... 200 OK\n",
            "Length: 537195972 (512M) [application/octet-stream]\n",
            "Saving to: ‘mammo_result_weights.best.floyd220120191700.hdf5’\n",
            "\n",
            "mammo_result_weight 100%[===================>] 512.31M  38.9MB/s    in 13s     \n",
            "\n",
            "2019-07-30 12:07:04 (38.0 MB/s) - ‘mammo_result_weights.best.floyd220120191700.hdf5’ saved [537195972/537195972]\n",
            "\n"
          ],
          "name": "stdout"
        }
      ]
    },
    {
      "cell_type": "code",
      "metadata": {
        "id": "RCZRVMygZl2t",
        "colab_type": "code",
        "colab": {}
      },
      "source": [
        "!mv mammo_result_weights.best.floyd220120191700.hdf5 mammo_result_weights.best.hdf5"
      ],
      "execution_count": 0,
      "outputs": []
    },
    {
      "cell_type": "code",
      "metadata": {
        "id": "B4bfkfW2T_h3",
        "colab_type": "code",
        "outputId": "8f56eea0-46f0-4a84-b3f4-07f5b56e8122",
        "colab": {
          "base_uri": "https://localhost:8080/",
          "height": 35
        }
      },
      "source": [
        "import tensorflow as tf\n",
        "device_name = tf.test.gpu_device_name()\n",
        "if device_name != '/device:GPU:0':\n",
        "  raise SystemError('GPU device not found')\n",
        "print('Found GPU at: {}'.format(device_name))"
      ],
      "execution_count": 0,
      "outputs": [
        {
          "output_type": "stream",
          "text": [
            "Found GPU at: /device:GPU:0\n"
          ],
          "name": "stdout"
        }
      ]
    },
    {
      "cell_type": "code",
      "metadata": {
        "id": "d_WpQ11LUOhY",
        "colab_type": "code",
        "outputId": "918d95b4-03e4-45d7-dda4-a60f7efba231",
        "colab": {
          "base_uri": "https://localhost:8080/",
          "height": 146
        }
      },
      "source": [
        "!ls -al\n"
      ],
      "execution_count": 0,
      "outputs": [
        {
          "output_type": "stream",
          "text": [
            "total 627240\n",
            "drwxr-xr-x 1 root root      4096 Jul 30 12:07 .\n",
            "drwxr-xr-x 1 root root      4096 Jul 30 11:59 ..\n",
            "-rw-r--r-- 1 root root 105073120 Jul 30 12:00 all_mias_scans.h5\n",
            "drwxr-xr-x 1 root root      4096 Jul 19 16:14 .config\n",
            "-rw-r--r-- 1 root root 537195972 Jul 30 12:07 mammo_result_weights.best.hdf5\n",
            "drwxr-xr-x 1 root root      4096 Jul 19 16:14 sample_data\n"
          ],
          "name": "stdout"
        }
      ]
    },
    {
      "cell_type": "code",
      "metadata": {
        "id": "qxOQejzrSXRV",
        "colab_type": "code",
        "colab": {}
      },
      "source": [
        "import numpy as np # linear algebra\n",
        "import pandas as pd # data processing, CSV file I/O (e.g. pd.read_csv)\n",
        "import matplotlib.pyplot as plt # showing and rendering figures\n",
        "# io related\n",
        "from skimage.io import imread\n",
        "import os\n",
        "from glob import glob\n",
        "import h5py\n",
        "# not needed in Kaggle, but required in Jupyter\n",
        "%matplotlib inline"
      ],
      "execution_count": 0,
      "outputs": []
    },
    {
      "cell_type": "code",
      "metadata": {
        "id": "a8XWCRpsSXRn",
        "colab_type": "code",
        "outputId": "100902d0-da44-45a3-8185-f2b31ea11113",
        "colab": {
          "base_uri": "https://localhost:8080/",
          "height": 206
        }
      },
      "source": [
        "base_h5 = os.path.join('all_mias_scans.h5')\n",
        "tif_dir = 'tiffs'\n",
        "os.makedirs(tif_dir, exist_ok=True)\n",
        "\n",
        "with h5py.File(base_h5, 'r') as f:\n",
        "    mammo_df = pd.DataFrame(\n",
        "        {k: v.value if len(v.shape)==1 else [sub_v for sub_v in v] \n",
        "         for k,v in f.items()}\n",
        "    )\n",
        "for k in mammo_df.columns:\n",
        "    if isinstance(mammo_df[k].values[0], bytes):\n",
        "        mammo_df[k] = mammo_df[k].map(lambda x: x.decode())\n",
        "# save data to disk\n",
        "from skimage.io import imsave\n",
        "def to_path(c_row):\n",
        "    out_path = os.path.join(tif_dir, '%s.tif' % c_row['REFNUM'])\n",
        "    imsave(out_path, c_row['scan'])\n",
        "    return out_path\n",
        "mammo_df['scan'] = mammo_df.apply(to_path,1)\n",
        "mammo_df.sample(5)"
      ],
      "execution_count": 0,
      "outputs": [
        {
          "output_type": "execute_result",
          "data": {
            "text/html": [
              "<div>\n",
              "<style scoped>\n",
              "    .dataframe tbody tr th:only-of-type {\n",
              "        vertical-align: middle;\n",
              "    }\n",
              "\n",
              "    .dataframe tbody tr th {\n",
              "        vertical-align: top;\n",
              "    }\n",
              "\n",
              "    .dataframe thead th {\n",
              "        text-align: right;\n",
              "    }\n",
              "</style>\n",
              "<table border=\"1\" class=\"dataframe\">\n",
              "  <thead>\n",
              "    <tr style=\"text-align: right;\">\n",
              "      <th></th>\n",
              "      <th>BG</th>\n",
              "      <th>CLASS</th>\n",
              "      <th>RADIUS</th>\n",
              "      <th>REFNUM</th>\n",
              "      <th>SEVERITY</th>\n",
              "      <th>X</th>\n",
              "      <th>Y</th>\n",
              "      <th>path</th>\n",
              "      <th>scan</th>\n",
              "    </tr>\n",
              "  </thead>\n",
              "  <tbody>\n",
              "    <tr>\n",
              "      <th>39</th>\n",
              "      <td>D</td>\n",
              "      <td>NORM</td>\n",
              "      <td>NaN</td>\n",
              "      <td>mdb039</td>\n",
              "      <td>nan</td>\n",
              "      <td>NaN</td>\n",
              "      <td>NaN</td>\n",
              "      <td>mdb039.pgm</td>\n",
              "      <td>tiffs/mdb039.tif</td>\n",
              "    </tr>\n",
              "    <tr>\n",
              "      <th>299</th>\n",
              "      <td>G</td>\n",
              "      <td>NORM</td>\n",
              "      <td>NaN</td>\n",
              "      <td>mdb292</td>\n",
              "      <td>nan</td>\n",
              "      <td>NaN</td>\n",
              "      <td>NaN</td>\n",
              "      <td>mdb292.pgm</td>\n",
              "      <td>tiffs/mdb292.tif</td>\n",
              "    </tr>\n",
              "    <tr>\n",
              "      <th>50</th>\n",
              "      <td>G</td>\n",
              "      <td>NORM</td>\n",
              "      <td>NaN</td>\n",
              "      <td>mdb050</td>\n",
              "      <td>nan</td>\n",
              "      <td>NaN</td>\n",
              "      <td>NaN</td>\n",
              "      <td>mdb050.pgm</td>\n",
              "      <td>tiffs/mdb050.tif</td>\n",
              "    </tr>\n",
              "    <tr>\n",
              "      <th>261</th>\n",
              "      <td>D</td>\n",
              "      <td>NORM</td>\n",
              "      <td>NaN</td>\n",
              "      <td>mdb254</td>\n",
              "      <td>nan</td>\n",
              "      <td>NaN</td>\n",
              "      <td>NaN</td>\n",
              "      <td>mdb254.pgm</td>\n",
              "      <td>tiffs/mdb254.tif</td>\n",
              "    </tr>\n",
              "    <tr>\n",
              "      <th>302</th>\n",
              "      <td>D</td>\n",
              "      <td>NORM</td>\n",
              "      <td>NaN</td>\n",
              "      <td>mdb295</td>\n",
              "      <td>nan</td>\n",
              "      <td>NaN</td>\n",
              "      <td>NaN</td>\n",
              "      <td>mdb295.pgm</td>\n",
              "      <td>tiffs/mdb295.tif</td>\n",
              "    </tr>\n",
              "  </tbody>\n",
              "</table>\n",
              "</div>"
            ],
            "text/plain": [
              "    BG CLASS  RADIUS  REFNUM SEVERITY   X   Y        path              scan\n",
              "39   D  NORM     NaN  mdb039      nan NaN NaN  mdb039.pgm  tiffs/mdb039.tif\n",
              "299  G  NORM     NaN  mdb292      nan NaN NaN  mdb292.pgm  tiffs/mdb292.tif\n",
              "50   G  NORM     NaN  mdb050      nan NaN NaN  mdb050.pgm  tiffs/mdb050.tif\n",
              "261  D  NORM     NaN  mdb254      nan NaN NaN  mdb254.pgm  tiffs/mdb254.tif\n",
              "302  D  NORM     NaN  mdb295      nan NaN NaN  mdb295.pgm  tiffs/mdb295.tif"
            ]
          },
          "metadata": {
            "tags": []
          },
          "execution_count": 10
        }
      ]
    },
    {
      "cell_type": "code",
      "metadata": {
        "id": "x_DEL9RgSXR0",
        "colab_type": "code",
        "outputId": "5b0f9e35-0cc2-461b-fdcf-e97aaf5ff811",
        "colab": {
          "base_uri": "https://localhost:8080/",
          "height": 409
        }
      },
      "source": [
        "from sklearn.preprocessing import LabelEncoder\n",
        "from keras.utils.np_utils import to_categorical\n",
        "class_enc = LabelEncoder()\n",
        "mammo_df['CLASS_ID'] = class_enc.fit_transform(mammo_df['CLASS'])\n",
        "mammo_df['CLASS_VEC'] = mammo_df['CLASS_ID'].map(lambda x: to_categorical(x, \n",
        "                                                                          num_classes=len(class_enc.classes_)))\n",
        "mammo_df['SEVERITY_ID'] = class_enc.fit_transform(mammo_df['SEVERITY'])\n",
        "mammo_df['SEVERITY_VEC'] = mammo_df['SEVERITY_ID'].map(lambda x: to_categorical(x, \n",
        "                                                                          num_classes=len(class_enc.classes_)))\n",
        "mammo_df[['CLASS_ID', 'RADIUS', 'SEVERITY']].hist(figsize = (10, 5))"
      ],
      "execution_count": 0,
      "outputs": [
        {
          "output_type": "stream",
          "text": [
            "Using TensorFlow backend.\n"
          ],
          "name": "stderr"
        },
        {
          "output_type": "execute_result",
          "data": {
            "text/plain": [
              "array([[<matplotlib.axes._subplots.AxesSubplot object at 0x7fd67d4b1668>,\n",
              "        <matplotlib.axes._subplots.AxesSubplot object at 0x7fd67d422828>]],\n",
              "      dtype=object)"
            ]
          },
          "metadata": {
            "tags": []
          },
          "execution_count": 11
        },
        {
          "output_type": "display_data",
          "data": {
            "image/png": "[encoded data removed]",
            "text/plain": [
              "<Figure size 720x360 with 2 Axes>"
            ]
          },
          "metadata": {
            "tags": []
          }
        }
      ]
    },
    {
      "cell_type": "code",
      "metadata": {
        "id": "60cxHexh4hLS",
        "colab_type": "code",
        "outputId": "b6324755-ba46-464a-ac88-be63284880a3",
        "colab": {
          "base_uri": "https://localhost:8080/",
          "height": 35
        }
      },
      "source": [
        "mammo_df.shape"
      ],
      "execution_count": 0,
      "outputs": [
        {
          "output_type": "execute_result",
          "data": {
            "text/plain": [
              "(330, 13)"
            ]
          },
          "metadata": {
            "tags": []
          },
          "execution_count": 53
        }
      ]
    },
    {
      "cell_type": "code",
      "metadata": {
        "id": "zTeM0CElSXSA",
        "colab_type": "code",
        "outputId": "c48c558d-49d9-4cd2-fa1e-617369ae39f7",
        "colab": {
          "base_uri": "https://localhost:8080/",
          "height": 99
        }
      },
      "source": [
        "from sklearn.model_selection import train_test_split\n",
        "raw_train_df, valid_df = train_test_split(mammo_df, \n",
        "                                   test_size = 0.25, \n",
        "                                   random_state = 2019,\n",
        "                                   stratify = mammo_df[['CLASS_ID', 'SEVERITY']])\n",
        "print('train', raw_train_df.shape[0], 'validation', valid_df.shape[0])\n",
        "raw_train_df.sample(1)\n"
      ],
      "execution_count": 0,
      "outputs": [
        {
          "output_type": "stream",
          "text": [
            "train 247 validation 83\n"
          ],
          "name": "stdout"
        },
        {
          "output_type": "execute_result",
          "data": {
            "text/html": [
              "<div>\n",
              "<style scoped>\n",
              "    .dataframe tbody tr th:only-of-type {\n",
              "        vertical-align: middle;\n",
              "    }\n",
              "\n",
              "    .dataframe tbody tr th {\n",
              "        vertical-align: top;\n",
              "    }\n",
              "\n",
              "    .dataframe thead th {\n",
              "        text-align: right;\n",
              "    }\n",
              "</style>\n",
              "<table border=\"1\" class=\"dataframe\">\n",
              "  <thead>\n",
              "    <tr style=\"text-align: right;\">\n",
              "      <th></th>\n",
              "      <th>BG</th>\n",
              "      <th>CLASS</th>\n",
              "      <th>RADIUS</th>\n",
              "      <th>REFNUM</th>\n",
              "      <th>SEVERITY</th>\n",
              "      <th>X</th>\n",
              "      <th>Y</th>\n",
              "      <th>path</th>\n",
              "      <th>scan</th>\n",
              "      <th>CLASS_ID</th>\n",
              "      <th>CLASS_VEC</th>\n",
              "      <th>SEVERITY_ID</th>\n",
              "      <th>SEVERITY_VEC</th>\n",
              "    </tr>\n",
              "  </thead>\n",
              "  <tbody>\n",
              "    <tr>\n",
              "      <th>126</th>\n",
              "      <td>D</td>\n",
              "      <td>ARCH</td>\n",
              "      <td>23.0</td>\n",
              "      <td>mdb126</td>\n",
              "      <td>B</td>\n",
              "      <td>191.0</td>\n",
              "      <td>549.0</td>\n",
              "      <td>mdb126.pgm</td>\n",
              "      <td>tiffs/mdb126.tif</td>\n",
              "      <td>0</td>\n",
              "      <td>[1.0, 0.0, 0.0, 0.0, 0.0, 0.0, 0.0]</td>\n",
              "      <td>0</td>\n",
              "      <td>[1.0, 0.0, 0.0]</td>\n",
              "    </tr>\n",
              "  </tbody>\n",
              "</table>\n",
              "</div>"
            ],
            "text/plain": [
              "    BG CLASS  ...  SEVERITY_ID     SEVERITY_VEC\n",
              "126  D  ARCH  ...            0  [1.0, 0.0, 0.0]\n",
              "\n",
              "[1 rows x 13 columns]"
            ]
          },
          "metadata": {
            "tags": []
          },
          "execution_count": 13
        }
      ]
    },
    {
      "cell_type": "code",
      "metadata": {
        "id": "eRgq2siTSXSW",
        "colab_type": "code",
        "colab": {}
      },
      "source": [
        "from keras.preprocessing.image import ImageDataGenerator\n",
        "from keras.applications.imagenet_utils import preprocess_input\n",
        "from keras.models import Sequential\n",
        "IMG_SIZE = (192, 192) # slightly smaller than vgg16 normally expects\n",
        "core_idg = ImageDataGenerator(samplewise_center=False, \n",
        "                              samplewise_std_normalization=False, \n",
        "                              horizontal_flip = True, \n",
        "                              vertical_flip = False, \n",
        "                              height_shift_range = 0.15, \n",
        "                              width_shift_range = 0.15, \n",
        "                              rotation_range = 5, \n",
        "                              shear_range = 0.01,\n",
        "                              fill_mode = 'nearest',\n",
        "                              zoom_range=0.2,\n",
        "                             preprocessing_function = preprocess_input)"
      ],
      "execution_count": 0,
      "outputs": []
    },
    {
      "cell_type": "code",
      "metadata": {
        "id": "Bhemd9PISXSM",
        "colab_type": "code",
        "outputId": "28dc9cb6-eaa4-4f8a-a9a3-95fc1ef5fdfd",
        "colab": {
          "base_uri": "https://localhost:8080/",
          "height": 391
        }
      },
      "source": [
        "train_df = raw_train_df.groupby(['CLASS', 'SEVERITY']).apply(lambda x: x.sample(100, replace = True)\n",
        "                                                      ).reset_index(drop = True)\n",
        "print('New Data Size:', train_df.shape[0], 'Old Size:', raw_train_df.shape[0])\n",
        "train_df[['CLASS_ID', 'SEVERITY']].hist(figsize = (10, 5),edgeColor='blue')\n"
      ],
      "execution_count": 0,
      "outputs": [
        {
          "output_type": "stream",
          "text": [
            "New Data Size: 1300 Old Size: 247\n"
          ],
          "name": "stdout"
        },
        {
          "output_type": "execute_result",
          "data": {
            "text/plain": [
              "array([[<matplotlib.axes._subplots.AxesSubplot object at 0x7fd67a774208>]],\n",
              "      dtype=object)"
            ]
          },
          "metadata": {
            "tags": []
          },
          "execution_count": 14
        },
        {
          "output_type": "display_data",
          "data": {
            "image/png": "[encoded data removed]",
            "text/plain": [
              "<Figure size 720x360 with 1 Axes>"
            ]
          },
          "metadata": {
            "tags": []
          }
        }
      ]
    },
    {
      "cell_type": "code",
      "metadata": {
        "id": "6RlqmpA79Klj",
        "colab_type": "code",
        "outputId": "95f2f847-4dae-4664-ebb7-0284140db466",
        "colab": {
          "base_uri": "https://localhost:8080/",
          "height": 373
        }
      },
      "source": [
        "train_df[['SEVERITY_ID']].hist(figsize = (10, 5),edgeColor='blue')"
      ],
      "execution_count": 0,
      "outputs": [
        {
          "output_type": "execute_result",
          "data": {
            "text/plain": [
              "array([[<matplotlib.axes._subplots.AxesSubplot object at 0x7fd52c030dd8>]],\n",
              "      dtype=object)"
            ]
          },
          "metadata": {
            "tags": []
          },
          "execution_count": 42
        },
        {
          "output_type": "display_data",
          "data": {
            "image/png": "[encoded data removed]",
            "text/plain": [
              "<Figure size 720x360 with 1 Axes>"
            ]
          },
          "metadata": {
            "tags": []
          }
        }
      ]
    },
    {
      "cell_type": "code",
      "metadata": {
        "id": "9wvSWqyg_YKc",
        "colab_type": "code",
        "outputId": "c4e32476-4cc8-46a7-daa8-cf4729ae7a6d",
        "colab": {
          "base_uri": "https://localhost:8080/",
          "height": 164
        }
      },
      "source": [
        "!ls -al"
      ],
      "execution_count": 0,
      "outputs": [
        {
          "output_type": "stream",
          "text": [
            "total 627252\n",
            "drwxr-xr-x 1 root root      4096 Jul 30 12:11 .\n",
            "drwxr-xr-x 1 root root      4096 Jul 30 11:59 ..\n",
            "-rw-r--r-- 1 root root 105073120 Jul 30 12:00 all_mias_scans.h5\n",
            "drwxr-xr-x 1 root root      4096 Jul 19 16:14 .config\n",
            "-rw-r--r-- 1 root root 537195972 Jul 30 12:07 mammo_result_weights.best.hdf5\n",
            "drwxr-xr-x 1 root root      4096 Jul 19 16:14 sample_data\n",
            "drwxr-xr-x 2 root root     12288 Jul 30 12:14 tiffs\n"
          ],
          "name": "stdout"
        }
      ]
    },
    {
      "cell_type": "code",
      "metadata": {
        "id": "P8xl_NSbSXSf",
        "colab_type": "code",
        "colab": {}
      },
      "source": [
        "def flow_from_dataframe(img_data_gen, in_df, path_col, y_col, **dflow_args):\n",
        "    base_dir = os.path.dirname(in_df[path_col].values[0])\n",
        "    print('## Ignore next message from keras, values are replaced anyways')\n",
        "    df_gen = img_data_gen.flow_from_directory(base_dir, \n",
        "                                     class_mode = 'sparse',\n",
        "                                    **dflow_args)\n",
        "    df_gen.filenames = in_df[path_col].values\n",
        "    df_gen.classes = np.stack(in_df[y_col].values)\n",
        "    df_gen.samples = in_df.shape[0]\n",
        "    df_gen.n = in_df.shape[0]\n",
        "    df_gen._set_index_array()\n",
        "    df_gen.directory = '' # since we have the full path\n",
        "    print('Reinserting dataframe: {} images'.format(in_df.shape[0]))\n",
        "    return df_gen"
      ],
      "execution_count": 0,
      "outputs": []
    },
    {
      "cell_type": "code",
      "metadata": {
        "id": "kPqicg5VSXSp",
        "colab_type": "code",
        "outputId": "667c0c01-b22e-40ae-da96-3d207b7b518d",
        "colab": {
          "base_uri": "https://localhost:8080/",
          "height": 110
        }
      },
      "source": [
        "\"\"\"\n",
        "\n",
        "En estas lineas, defino cada uno de los data generator para los splits del dataset.\n",
        "Cada data generator toma datos desde el dataframe train_df  y desde el directorio tiffs/ toma las imagenes que ya fueron descomprimidas.\n",
        "\n",
        "\"\"\"\n",
        "train_gen = core_idg.flow_from_dataframe(\n",
        "                                      dataframe=train_df,\n",
        "                                      directory=\"\",\n",
        "                                      x_col=\"scan\",\n",
        "                                      y_col=\"SEVERITY\",\n",
        "                                      batch_size=32,\n",
        "                                      seed=42,\n",
        "                                      shuffle=True,\n",
        "                                      class_mode=\"categorical\",\n",
        "                                      target_size=IMG_SIZE)\n",
        "\n",
        "valid_gen=core_idg.flow_from_dataframe(\n",
        "                                      dataframe=valid_df,\n",
        "                                      directory=\"\",\n",
        "                                      x_col=\"scan\",\n",
        "                                      y_col=\"SEVERITY\",\n",
        "                                      batch_size=256,\n",
        "                                      seed=42,\n",
        "                                      shuffle=True,\n",
        "                                      class_mode=\"categorical\",\n",
        "                                      target_size=IMG_SIZE)\n",
        "\n",
        "test_gen=core_idg.flow_from_dataframe(\n",
        "                                      dataframe=valid_df,\n",
        "                                      directory=\"\",\n",
        "                                      x_col=\"scan\",\n",
        "                                      y_col=\"SEVERITY\",\n",
        "                                      batch_size=1024,\n",
        "                                      seed=42,\n",
        "                                      shuffle=True,\n",
        "                                      class_mode=\"categorical\",\n",
        "                                      target_size=IMG_SIZE)\n",
        "\n",
        "STEP_SIZE_TRAIN=train_gen.n//train_gen.batch_size\n",
        "STEP_SIZE_VALID=valid_gen.n//valid_gen.batch_size\n",
        "STEP_SIZE_TEST=test_gen.n//test_gen.batch_size\n",
        "\n",
        "\"\"\"train_generator=datagen.flow_from_dataframe(\n",
        "dataframe=traindf,\n",
        "directory=\"./train/\",\n",
        "x_col=\"id\",\n",
        "y_col=\"label\",\n",
        "subset=\"training\",\n",
        "batch_size=32,\n",
        "seed=42,\n",
        "shuffle=True,\n",
        "class_mode=\"categorical\",\n",
        "target_size=(32,32))\n",
        "\n",
        "train_generator=datagen.flow_from_dataframe(\n",
        "dataframe=traindf,\n",
        "directory=\"./train/\",\n",
        "x_col=\"id\",\n",
        "y_col=\"label\",\n",
        "subset=\"training\",\n",
        "batch_size=32,\n",
        "seed=42,\n",
        "shuffle=True,\n",
        "class_mode=\"categorical\",\n",
        "target_size=(32,32))\n",
        "\n",
        "\n",
        "valid_gen = flow_from_dataframe(core_idg, valid_df, \n",
        "                             path_col = 'scan',\n",
        "                            y_col = 'SEVERITY_VEC', \n",
        "                            target_size = IMG_SIZE,\n",
        "                             color_mode = 'rgb',\n",
        "                            batch_size = 256) # we can use much larger batches for evaluation\n",
        "\n",
        "# used a fixed dataset for evaluating the algorithm\n",
        "test_gen =  flow_from_dataframe(core_idg, \n",
        "                               valid_df, \n",
        "                             path_col = 'scan',\n",
        "                            y_col = 'SEVERITY_VEC', \n",
        "                            target_size = IMG_SIZE,\n",
        "                             color_mode = 'rgb',\n",
        "                            batch_size = 1024) # one big batch \"\"\""
      ],
      "execution_count": 0,
      "outputs": [
        {
          "output_type": "stream",
          "text": [
            "Found 1300 validated image filenames belonging to 3 classes.\n",
            "Found 83 validated image filenames belonging to 3 classes.\n",
            "Found 83 validated image filenames belonging to 3 classes.\n"
          ],
          "name": "stdout"
        },
        {
          "output_type": "execute_result",
          "data": {
            "text/plain": [
              "'train_generator=datagen.flow_from_dataframe(\\ndataframe=traindf,\\ndirectory=\"./train/\",\\nx_col=\"id\",\\ny_col=\"label\",\\nsubset=\"training\",\\nbatch_size=32,\\nseed=42,\\nshuffle=True,\\nclass_mode=\"categorical\",\\ntarget_size=(32,32))\\n\\ntrain_generator=datagen.flow_from_dataframe(\\ndataframe=traindf,\\ndirectory=\"./train/\",\\nx_col=\"id\",\\ny_col=\"label\",\\nsubset=\"training\",\\nbatch_size=32,\\nseed=42,\\nshuffle=True,\\nclass_mode=\"categorical\",\\ntarget_size=(32,32))\\n\\n\\nvalid_gen = flow_from_dataframe(core_idg, valid_df, \\n                             path_col = \\'scan\\',\\n                            y_col = \\'SEVERITY_VEC\\', \\n                            target_size = IMG_SIZE,\\n                             color_mode = \\'rgb\\',\\n                            batch_size = 256) # we can use much larger batches for evaluation\\n\\n# used a fixed dataset for evaluating the algorithm\\ntest_gen =  flow_from_dataframe(core_idg, \\n                               valid_df, \\n                             path_col = \\'scan\\',\\n                            y_col = \\'SEVERITY_VEC\\', \\n                            target_size = IMG_SIZE,\\n                             color_mode = \\'rgb\\',\\n                            batch_size = 1024) # one big batch '"
            ]
          },
          "metadata": {
            "tags": []
          },
          "execution_count": 77
        }
      ]
    },
    {
      "cell_type": "code",
      "metadata": {
        "id": "W4YIjmfiSXTA",
        "colab_type": "code",
        "outputId": "c45c3cc1-4a32-46a5-c12b-48ca79398c7a",
        "colab": {
          "base_uri": "https://localhost:8080/",
          "height": 1000
        }
      },
      "source": [
        "from keras.applications.vgg16 import VGG16\n",
        "from keras.preprocessing import image\n",
        "from keras.applications.vgg16 import preprocess_input\n",
        "from keras.layers import Input, Flatten, Dense\n",
        "from keras.models import Model\n",
        "from keras import Sequential\n",
        "import numpy as np\n",
        "\n",
        "#Get back the convolutional part of a VGG network trained on ImageNet\n",
        "model_vgg16_conv = VGG16(weights='imagenet', include_top=False)\n",
        "model_vgg16_conv.summary()\n",
        "\n",
        "#Create your own input format (here 3x200x200)\n",
        "input = Input(shape=(192,192,3),name = 'image_input')\n",
        "\n",
        "#Use the generated model \n",
        "output_vgg16_conv = model_vgg16_conv(input)\n",
        "\n",
        "#Add the fully-connected layers \n",
        "x = Flatten(name='flatten')(output_vgg16_conv)\n",
        "x = Dense(4096, activation='relu', name='fc1')(x)\n",
        "x = Dense(4096, activation='relu', name='fc2')(x)\n",
        "x = Dense(3, activation='softmax', name='predictions')(x)\n",
        "\n",
        "#Create your own model \n",
        "my_model = Model(input=input, output=x)\n",
        "\n",
        "#In the summary, weights and layers from VGG part will be hidden, but they will be fit during the training\n",
        "my_model.summary()\n",
        "\n",
        "\n",
        "#Then training with your data ! "
      ],
      "execution_count": 0,
      "outputs": [
        {
          "output_type": "stream",
          "text": [
            "_________________________________________________________________\n",
            "Layer (type)                 Output Shape              Param #   \n",
            "=================================================================\n",
            "input_6 (InputLayer)         (None, None, None, 3)     0         \n",
            "_________________________________________________________________\n",
            "block1_conv1 (Conv2D)        (None, None, None, 64)    1792      \n",
            "_________________________________________________________________\n",
            "block1_conv2 (Conv2D)        (None, None, None, 64)    36928     \n",
            "_________________________________________________________________\n",
            "block1_pool (MaxPooling2D)   (None, None, None, 64)    0         \n",
            "_________________________________________________________________\n",
            "block2_conv1 (Conv2D)        (None, None, None, 128)   73856     \n",
            "_________________________________________________________________\n",
            "block2_conv2 (Conv2D)        (None, None, None, 128)   147584    \n",
            "_________________________________________________________________\n",
            "block2_pool (MaxPooling2D)   (None, None, None, 128)   0         \n",
            "_________________________________________________________________\n",
            "block3_conv1 (Conv2D)        (None, None, None, 256)   295168    \n",
            "_________________________________________________________________\n",
            "block3_conv2 (Conv2D)        (None, None, None, 256)   590080    \n",
            "_________________________________________________________________\n",
            "block3_conv3 (Conv2D)        (None, None, None, 256)   590080    \n",
            "_________________________________________________________________\n",
            "block3_pool (MaxPooling2D)   (None, None, None, 256)   0         \n",
            "_________________________________________________________________\n",
            "block4_conv1 (Conv2D)        (None, None, None, 512)   1180160   \n",
            "_________________________________________________________________\n",
            "block4_conv2 (Conv2D)        (None, None, None, 512)   2359808   \n",
            "_________________________________________________________________\n",
            "block4_conv3 (Conv2D)        (None, None, None, 512)   2359808   \n",
            "_________________________________________________________________\n",
            "block4_pool (MaxPooling2D)   (None, None, None, 512)   0         \n",
            "_________________________________________________________________\n",
            "block5_conv1 (Conv2D)        (None, None, None, 512)   2359808   \n",
            "_________________________________________________________________\n",
            "block5_conv2 (Conv2D)        (None, None, None, 512)   2359808   \n",
            "_________________________________________________________________\n",
            "block5_conv3 (Conv2D)        (None, None, None, 512)   2359808   \n",
            "_________________________________________________________________\n",
            "block5_pool (MaxPooling2D)   (None, None, None, 512)   0         \n",
            "=================================================================\n",
            "Total params: 14,714,688\n",
            "Trainable params: 14,714,688\n",
            "Non-trainable params: 0\n",
            "_________________________________________________________________\n",
            "_________________________________________________________________\n",
            "Layer (type)                 Output Shape              Param #   \n",
            "=================================================================\n",
            "image_input (InputLayer)     (None, 192, 192, 3)       0         \n",
            "_________________________________________________________________\n",
            "vgg16 (Model)                multiple                  14714688  \n",
            "_________________________________________________________________\n",
            "flatten (Flatten)            (None, 18432)             0         \n",
            "_________________________________________________________________\n",
            "fc1 (Dense)                  (None, 4096)              75501568  \n",
            "_________________________________________________________________\n",
            "fc2 (Dense)                  (None, 4096)              16781312  \n",
            "_________________________________________________________________\n",
            "predictions (Dense)          (None, 3)                 12291     \n",
            "=================================================================\n",
            "Total params: 107,009,859\n",
            "Trainable params: 107,009,859\n",
            "Non-trainable params: 0\n",
            "_________________________________________________________________\n"
          ],
          "name": "stdout"
        },
        {
          "output_type": "stream",
          "text": [
            "/usr/local/lib/python3.6/dist-packages/ipykernel_launcher.py:26: UserWarning: Update your `Model` call to the Keras 2 API: `Model(inputs=Tensor(\"im..., outputs=Tensor(\"pr...)`\n"
          ],
          "name": "stderr"
        }
      ]
    },
    {
      "cell_type": "code",
      "metadata": {
        "id": "n5QT4inESXTM",
        "colab_type": "code",
        "colab": {}
      },
      "source": [
        "from keras.optimizers import SGD\n",
        "\n",
        "\n",
        "my_model.compile(loss = \"categorical_crossentropy\", \n",
        "                    optimizer = SGD(lr=1e-5, momentum=0.9), \n",
        "                    metrics=[\"categorical_accuracy\"])\n",
        "#Agregado por mi\n",
        "from keras.callbacks import ModelCheckpoint, LearningRateScheduler, EarlyStopping, ReduceLROnPlateau\n",
        "weight_path=\"{}_weights.best.hdf5\".format('mammo_result_severity')\n",
        "checkpoint = ModelCheckpoint(weight_path, monitor='val_loss', verbose=1, \n",
        "                             save_best_only=True, mode='min', save_weights_only = True)\n",
        "\n",
        "\n",
        "reduceLROnPlat = ReduceLROnPlateau(monitor='val_loss', factor=0.8, patience=10, verbose=1, mode='auto', min_delta=0.0001, cooldown=5, min_lr=0.0001)\n",
        "early = EarlyStopping(monitor=\"val_loss\", \n",
        "                      mode=\"min\", \n",
        "                      patience=15) # probably needs to be more patient, but kaggle time is limited\n",
        "callbacks_list = [checkpoint, early, reduceLROnPlat]"
      ],
      "execution_count": 0,
      "outputs": []
    },
    {
      "cell_type": "code",
      "metadata": {
        "id": "h1zyeurzSXTX",
        "colab_type": "code",
        "outputId": "39817254-01af-4d55-a7d2-2733612480a0",
        "colab": {
          "base_uri": "https://localhost:8080/",
          "height": 530
        }
      },
      "source": [
        "my_model.load_weights('mammo_result_severity_weights.best.hdf5')\n",
        "\n",
        "history = my_model.fit_generator(train_gen, \n",
        "                                  steps_per_epoch = STEP_SIZE_TRAIN,\n",
        "                                  validation_data = valid_gen, \n",
        "                                  nb_val_samples = 250,\n",
        "                                  epochs = 10, \n",
        "                                  callbacks = callbacks_list)\n",
        "\n",
        "\"\"\"my_model.fit_generator(generator=train_gen,\n",
        "                    steps_per_epoch=STEP_SIZE_TRAIN,\n",
        "                    validation_data=valid_gen,\n",
        "                    validation_steps=STEP_SIZE_VALID,\n",
        "                    epochs=10,\n",
        "                    callbacks = callbacks_list)\"\"\""
      ],
      "execution_count": 0,
      "outputs": [
        {
          "output_type": "stream",
          "text": [
            "/usr/local/lib/python3.6/dist-packages/ipykernel_launcher.py:8: UserWarning: The semantics of the Keras 2 argument `steps_per_epoch` is not the same as the Keras 1 argument `samples_per_epoch`. `steps_per_epoch` is the number of batches to draw from the generator at each epoch. Basically steps_per_epoch = samples_per_epoch/batch_size. Similarly `nb_val_samples`->`validation_steps` and `val_samples`->`steps` arguments have changed. Update your method calls accordingly.\n",
            "  \n",
            "/usr/local/lib/python3.6/dist-packages/ipykernel_launcher.py:8: UserWarning: Update your `fit_generator` call to the Keras 2 API: `fit_generator(<keras_pre..., steps_per_epoch=40, validation_data=<keras_pre..., epochs=10, callbacks=[<keras.ca..., validation_steps=250)`\n",
            "  \n"
          ],
          "name": "stderr"
        },
        {
          "output_type": "stream",
          "text": [
            "Epoch 1/10\n",
            "18/40 [============>.................] - ETA: 10s - loss: 0.4134 - categorical_accuracy: 0.8479"
          ],
          "name": "stdout"
        },
        {
          "output_type": "error",
          "ename": "KeyboardInterrupt",
          "evalue": "ignored",
          "traceback": [
            "\u001b[0;31m---------------------------------------------------------------------------\u001b[0m",
            "\u001b[0;31mKeyboardInterrupt\u001b[0m                         Traceback (most recent call last)",
            "\u001b[0;32m<ipython-input-88-68c4df051b65>\u001b[0m in \u001b[0;36m<module>\u001b[0;34m()\u001b[0m\n\u001b[1;32m      6\u001b[0m                                   \u001b[0mnb_val_samples\u001b[0m \u001b[0;34m=\u001b[0m \u001b[0;36m250\u001b[0m\u001b[0;34m,\u001b[0m\u001b[0;34m\u001b[0m\u001b[0;34m\u001b[0m\u001b[0m\n\u001b[1;32m      7\u001b[0m                                   \u001b[0mepochs\u001b[0m \u001b[0;34m=\u001b[0m \u001b[0;36m10\u001b[0m\u001b[0;34m,\u001b[0m\u001b[0;34m\u001b[0m\u001b[0;34m\u001b[0m\u001b[0m\n\u001b[0;32m----> 8\u001b[0;31m                                   callbacks = callbacks_list)\n\u001b[0m\u001b[1;32m      9\u001b[0m \u001b[0;34m\u001b[0m\u001b[0m\n\u001b[1;32m     10\u001b[0m \"\"\"my_model.fit_generator(generator=train_gen,\n",
            "\u001b[0;32m/usr/local/lib/python3.6/dist-packages/keras/legacy/interfaces.py\u001b[0m in \u001b[0;36mwrapper\u001b[0;34m(*args, **kwargs)\u001b[0m\n\u001b[1;32m     89\u001b[0m                 warnings.warn('Update your `' + object_name + '` call to the ' +\n\u001b[1;32m     90\u001b[0m                               'Keras 2 API: ' + signature, stacklevel=2)\n\u001b[0;32m---> 91\u001b[0;31m             \u001b[0;32mreturn\u001b[0m \u001b[0mfunc\u001b[0m\u001b[0;34m(\u001b[0m\u001b[0;34m*\u001b[0m\u001b[0margs\u001b[0m\u001b[0;34m,\u001b[0m \u001b[0;34m**\u001b[0m\u001b[0mkwargs\u001b[0m\u001b[0;34m)\u001b[0m\u001b[0;34m\u001b[0m\u001b[0;34m\u001b[0m\u001b[0m\n\u001b[0m\u001b[1;32m     92\u001b[0m         \u001b[0mwrapper\u001b[0m\u001b[0;34m.\u001b[0m\u001b[0m_original_function\u001b[0m \u001b[0;34m=\u001b[0m \u001b[0mfunc\u001b[0m\u001b[0;34m\u001b[0m\u001b[0;34m\u001b[0m\u001b[0m\n\u001b[1;32m     93\u001b[0m         \u001b[0;32mreturn\u001b[0m \u001b[0mwrapper\u001b[0m\u001b[0;34m\u001b[0m\u001b[0;34m\u001b[0m\u001b[0m\n",
            "\u001b[0;32m/usr/local/lib/python3.6/dist-packages/keras/engine/training.py\u001b[0m in \u001b[0;36mfit_generator\u001b[0;34m(self, generator, steps_per_epoch, epochs, verbose, callbacks, validation_data, validation_steps, class_weight, max_queue_size, workers, use_multiprocessing, shuffle, initial_epoch)\u001b[0m\n\u001b[1;32m   1416\u001b[0m             \u001b[0muse_multiprocessing\u001b[0m\u001b[0;34m=\u001b[0m\u001b[0muse_multiprocessing\u001b[0m\u001b[0;34m,\u001b[0m\u001b[0;34m\u001b[0m\u001b[0;34m\u001b[0m\u001b[0m\n\u001b[1;32m   1417\u001b[0m             \u001b[0mshuffle\u001b[0m\u001b[0;34m=\u001b[0m\u001b[0mshuffle\u001b[0m\u001b[0;34m,\u001b[0m\u001b[0;34m\u001b[0m\u001b[0;34m\u001b[0m\u001b[0m\n\u001b[0;32m-> 1418\u001b[0;31m             initial_epoch=initial_epoch)\n\u001b[0m\u001b[1;32m   1419\u001b[0m \u001b[0;34m\u001b[0m\u001b[0m\n\u001b[1;32m   1420\u001b[0m     \u001b[0;34m@\u001b[0m\u001b[0minterfaces\u001b[0m\u001b[0;34m.\u001b[0m\u001b[0mlegacy_generator_methods_support\u001b[0m\u001b[0;34m\u001b[0m\u001b[0;34m\u001b[0m\u001b[0m\n",
            "\u001b[0;32m/usr/local/lib/python3.6/dist-packages/keras/engine/training_generator.py\u001b[0m in \u001b[0;36mfit_generator\u001b[0;34m(model, generator, steps_per_epoch, epochs, verbose, callbacks, validation_data, validation_steps, class_weight, max_queue_size, workers, use_multiprocessing, shuffle, initial_epoch)\u001b[0m\n\u001b[1;32m    215\u001b[0m                 outs = model.train_on_batch(x, y,\n\u001b[1;32m    216\u001b[0m                                             \u001b[0msample_weight\u001b[0m\u001b[0;34m=\u001b[0m\u001b[0msample_weight\u001b[0m\u001b[0;34m,\u001b[0m\u001b[0;34m\u001b[0m\u001b[0;34m\u001b[0m\u001b[0m\n\u001b[0;32m--> 217\u001b[0;31m                                             class_weight=class_weight)\n\u001b[0m\u001b[1;32m    218\u001b[0m \u001b[0;34m\u001b[0m\u001b[0m\n\u001b[1;32m    219\u001b[0m                 \u001b[0mouts\u001b[0m \u001b[0;34m=\u001b[0m \u001b[0mto_list\u001b[0m\u001b[0;34m(\u001b[0m\u001b[0mouts\u001b[0m\u001b[0;34m)\u001b[0m\u001b[0;34m\u001b[0m\u001b[0;34m\u001b[0m\u001b[0m\n",
            "\u001b[0;32m/usr/local/lib/python3.6/dist-packages/keras/engine/training.py\u001b[0m in \u001b[0;36mtrain_on_batch\u001b[0;34m(self, x, y, sample_weight, class_weight)\u001b[0m\n\u001b[1;32m   1215\u001b[0m             \u001b[0mins\u001b[0m \u001b[0;34m=\u001b[0m \u001b[0mx\u001b[0m \u001b[0;34m+\u001b[0m \u001b[0my\u001b[0m \u001b[0;34m+\u001b[0m \u001b[0msample_weights\u001b[0m\u001b[0;34m\u001b[0m\u001b[0;34m\u001b[0m\u001b[0m\n\u001b[1;32m   1216\u001b[0m         \u001b[0mself\u001b[0m\u001b[0;34m.\u001b[0m\u001b[0m_make_train_function\u001b[0m\u001b[0;34m(\u001b[0m\u001b[0;34m)\u001b[0m\u001b[0;34m\u001b[0m\u001b[0;34m\u001b[0m\u001b[0m\n\u001b[0;32m-> 1217\u001b[0;31m         \u001b[0moutputs\u001b[0m \u001b[0;34m=\u001b[0m \u001b[0mself\u001b[0m\u001b[0;34m.\u001b[0m\u001b[0mtrain_function\u001b[0m\u001b[0;34m(\u001b[0m\u001b[0mins\u001b[0m\u001b[0;34m)\u001b[0m\u001b[0;34m\u001b[0m\u001b[0;34m\u001b[0m\u001b[0m\n\u001b[0m\u001b[1;32m   1218\u001b[0m         \u001b[0;32mreturn\u001b[0m \u001b[0munpack_singleton\u001b[0m\u001b[0;34m(\u001b[0m\u001b[0moutputs\u001b[0m\u001b[0;34m)\u001b[0m\u001b[0;34m\u001b[0m\u001b[0;34m\u001b[0m\u001b[0m\n\u001b[1;32m   1219\u001b[0m \u001b[0;34m\u001b[0m\u001b[0m\n",
            "\u001b[0;32m/usr/local/lib/python3.6/dist-packages/keras/backend/tensorflow_backend.py\u001b[0m in \u001b[0;36m__call__\u001b[0;34m(self, inputs)\u001b[0m\n\u001b[1;32m   2713\u001b[0m                 \u001b[0;32mreturn\u001b[0m \u001b[0mself\u001b[0m\u001b[0;34m.\u001b[0m\u001b[0m_legacy_call\u001b[0m\u001b[0;34m(\u001b[0m\u001b[0minputs\u001b[0m\u001b[0;34m)\u001b[0m\u001b[0;34m\u001b[0m\u001b[0;34m\u001b[0m\u001b[0m\n\u001b[1;32m   2714\u001b[0m \u001b[0;34m\u001b[0m\u001b[0m\n\u001b[0;32m-> 2715\u001b[0;31m             \u001b[0;32mreturn\u001b[0m \u001b[0mself\u001b[0m\u001b[0;34m.\u001b[0m\u001b[0m_call\u001b[0m\u001b[0;34m(\u001b[0m\u001b[0minputs\u001b[0m\u001b[0;34m)\u001b[0m\u001b[0;34m\u001b[0m\u001b[0;34m\u001b[0m\u001b[0m\n\u001b[0m\u001b[1;32m   2716\u001b[0m         \u001b[0;32melse\u001b[0m\u001b[0;34m:\u001b[0m\u001b[0;34m\u001b[0m\u001b[0;34m\u001b[0m\u001b[0m\n\u001b[1;32m   2717\u001b[0m             \u001b[0;32mif\u001b[0m \u001b[0mpy_any\u001b[0m\u001b[0;34m(\u001b[0m\u001b[0mis_tensor\u001b[0m\u001b[0;34m(\u001b[0m\u001b[0mx\u001b[0m\u001b[0;34m)\u001b[0m \u001b[0;32mfor\u001b[0m \u001b[0mx\u001b[0m \u001b[0;32min\u001b[0m \u001b[0minputs\u001b[0m\u001b[0;34m)\u001b[0m\u001b[0;34m:\u001b[0m\u001b[0;34m\u001b[0m\u001b[0;34m\u001b[0m\u001b[0m\n",
            "\u001b[0;32m/usr/local/lib/python3.6/dist-packages/keras/backend/tensorflow_backend.py\u001b[0m in \u001b[0;36m_call\u001b[0;34m(self, inputs)\u001b[0m\n\u001b[1;32m   2673\u001b[0m             \u001b[0mfetched\u001b[0m \u001b[0;34m=\u001b[0m \u001b[0mself\u001b[0m\u001b[0;34m.\u001b[0m\u001b[0m_callable_fn\u001b[0m\u001b[0;34m(\u001b[0m\u001b[0;34m*\u001b[0m\u001b[0marray_vals\u001b[0m\u001b[0;34m,\u001b[0m \u001b[0mrun_metadata\u001b[0m\u001b[0;34m=\u001b[0m\u001b[0mself\u001b[0m\u001b[0;34m.\u001b[0m\u001b[0mrun_metadata\u001b[0m\u001b[0;34m)\u001b[0m\u001b[0;34m\u001b[0m\u001b[0;34m\u001b[0m\u001b[0m\n\u001b[1;32m   2674\u001b[0m         \u001b[0;32melse\u001b[0m\u001b[0;34m:\u001b[0m\u001b[0;34m\u001b[0m\u001b[0;34m\u001b[0m\u001b[0m\n\u001b[0;32m-> 2675\u001b[0;31m             \u001b[0mfetched\u001b[0m \u001b[0;34m=\u001b[0m \u001b[0mself\u001b[0m\u001b[0;34m.\u001b[0m\u001b[0m_callable_fn\u001b[0m\u001b[0;34m(\u001b[0m\u001b[0;34m*\u001b[0m\u001b[0marray_vals\u001b[0m\u001b[0;34m)\u001b[0m\u001b[0;34m\u001b[0m\u001b[0;34m\u001b[0m\u001b[0m\n\u001b[0m\u001b[1;32m   2676\u001b[0m         \u001b[0;32mreturn\u001b[0m \u001b[0mfetched\u001b[0m\u001b[0;34m[\u001b[0m\u001b[0;34m:\u001b[0m\u001b[0mlen\u001b[0m\u001b[0;34m(\u001b[0m\u001b[0mself\u001b[0m\u001b[0;34m.\u001b[0m\u001b[0moutputs\u001b[0m\u001b[0;34m)\u001b[0m\u001b[0;34m]\u001b[0m\u001b[0;34m\u001b[0m\u001b[0;34m\u001b[0m\u001b[0m\n\u001b[1;32m   2677\u001b[0m \u001b[0;34m\u001b[0m\u001b[0m\n",
            "\u001b[0;32m/usr/local/lib/python3.6/dist-packages/tensorflow/python/client/session.py\u001b[0m in \u001b[0;36m__call__\u001b[0;34m(self, *args, **kwargs)\u001b[0m\n\u001b[1;32m   1456\u001b[0m         ret = tf_session.TF_SessionRunCallable(self._session._session,\n\u001b[1;32m   1457\u001b[0m                                                \u001b[0mself\u001b[0m\u001b[0;34m.\u001b[0m\u001b[0m_handle\u001b[0m\u001b[0;34m,\u001b[0m \u001b[0margs\u001b[0m\u001b[0;34m,\u001b[0m\u001b[0;34m\u001b[0m\u001b[0;34m\u001b[0m\u001b[0m\n\u001b[0;32m-> 1458\u001b[0;31m                                                run_metadata_ptr)\n\u001b[0m\u001b[1;32m   1459\u001b[0m         \u001b[0;32mif\u001b[0m \u001b[0mrun_metadata\u001b[0m\u001b[0;34m:\u001b[0m\u001b[0;34m\u001b[0m\u001b[0;34m\u001b[0m\u001b[0m\n\u001b[1;32m   1460\u001b[0m           \u001b[0mproto_data\u001b[0m \u001b[0;34m=\u001b[0m \u001b[0mtf_session\u001b[0m\u001b[0;34m.\u001b[0m\u001b[0mTF_GetBuffer\u001b[0m\u001b[0;34m(\u001b[0m\u001b[0mrun_metadata_ptr\u001b[0m\u001b[0;34m)\u001b[0m\u001b[0;34m\u001b[0m\u001b[0;34m\u001b[0m\u001b[0m\n",
            "\u001b[0;31mKeyboardInterrupt\u001b[0m: "
          ]
        }
      ]
    },
    {
      "cell_type": "code",
      "metadata": {
        "id": "YBw8jxmQVB_s",
        "colab_type": "code",
        "outputId": "931dc3bb-c484-42e5-d2a6-03ea1e19bb04",
        "colab": {
          "base_uri": "https://localhost:8080/",
          "height": 35
        }
      },
      "source": [
        "\"\"\"Estas lineas me permiten conectar mi notebook con mi unidad de GoogleDrive\"\"\"\n",
        "from google.colab import drive\n",
        "drive.mount('/content/drive/')"
      ],
      "execution_count": 0,
      "outputs": [
        {
          "output_type": "stream",
          "text": [
            "Drive already mounted at /content/drive/; to attempt to forcibly remount, call drive.mount(\"/content/drive/\", force_remount=True).\n"
          ],
          "name": "stdout"
        }
      ]
    },
    {
      "cell_type": "code",
      "metadata": {
        "id": "Y1P2TJMuS8fg",
        "colab_type": "code",
        "colab": {}
      },
      "source": [
        "\"\"\"Con esta linea estoy copiando el mejor resultado del entrenamiento del modelo a mi unidad de google drive\"\"\"\n",
        "!cp mammo_result_severity_weights.best.hdf5 drive/My\\ Drive\n"
      ],
      "execution_count": 0,
      "outputs": []
    },
    {
      "cell_type": "code",
      "metadata": {
        "id": "uL-ci9XMXZWU",
        "colab_type": "code",
        "outputId": "c991167d-2905-4bf1-b355-26e63c48d849",
        "colab": {
          "base_uri": "https://localhost:8080/",
          "height": 201
        }
      },
      "source": [
        "!ls -al "
      ],
      "execution_count": 0,
      "outputs": [
        {
          "output_type": "stream",
          "text": [
            "total 1045304\n",
            "drwxr-xr-x 1 root root      4096 Jul 30 14:31 .\n",
            "drwxr-xr-x 1 root root      4096 Jul 30 11:59 ..\n",
            "-rw-r--r-- 1 root root 105073120 Jul 30 12:00 all_mias_scans.h5\n",
            "drwxr-xr-x 1 root root      4096 Jul 19 16:14 .config\n",
            "drwx------ 3 root root      4096 Jul 30 14:31 drive\n",
            "-rw-r--r-- 1 root root 428078572 Jul 30 14:07 mammo_result_severity_weights.best.hdf5\n",
            "-rw-r--r-- 1 root root 537195972 Jul 30 12:07 mammo_result_weights.best.hdf5\n",
            "drwxr-xr-x 1 root root      4096 Jul 19 16:14 sample_data\n",
            "drwxr-xr-x 2 root root     12288 Jul 30 12:14 tiffs\n"
          ],
          "name": "stdout"
        }
      ]
    },
    {
      "cell_type": "code",
      "metadata": {
        "id": "CVtEASKjSXTg",
        "colab_type": "code",
        "outputId": "d7d558ae-670c-4dcf-dfe4-3d389e69213c",
        "colab": {
          "base_uri": "https://localhost:8080/",
          "height": 269
        }
      },
      "source": [
        "fig, ax = plt.subplots(2,1)\n",
        "ax[0].plot(history.history['loss'], color='b', label=\"Training loss\")\n",
        "ax[0].plot(history.history['val_loss'], color='r', label=\"validation loss\",axes =ax[0])\n",
        "legend = ax[0].legend(loc='best', shadow=True)\n",
        "\n",
        "ax[1].plot(history.history['categorical_accuracy'], color='b', label=\"Training accuracy\")\n",
        "ax[1].plot(history.history['val_categorical_accuracy'], color='r',label=\"Validation accuracy\")\n",
        "legend = ax[1].legend(loc='best', shadow=True)\n",
        "plt.show()"
      ],
      "execution_count": 0,
      "outputs": [
        {
          "output_type": "display_data",
          "data": {
            "image/png": "[encoded data removed]",
            "text/plain": [
              "<Figure size 432x288 with 2 Axes>"
            ]
          },
          "metadata": {
            "tags": []
          }
        }
      ]
    },
    {
      "cell_type": "code",
      "metadata": {
        "id": "61CDot4ySXTo",
        "colab_type": "code",
        "outputId": "4620abf2-d195-4a84-c29a-c3d5508bb9ab",
        "colab": {
          "base_uri": "https://localhost:8080/",
          "height": 34
        }
      },
      "source": [
        "test_gen.reset()\n",
        "pred=my_model.predict_generator(test_gen,\n",
        "steps=STEP_SIZE_TEST,\n",
        "verbose=1)"
      ],
      "execution_count": 0,
      "outputs": [
        {
          "output_type": "stream",
          "text": [
            "83/83 [==============================] - 1s 13ms/step\n"
          ],
          "name": "stdout"
        }
      ]
    },
    {
      "cell_type": "code",
      "metadata": {
        "id": "ciRZZVDST5ls",
        "colab_type": "code",
        "colab": {}
      },
      "source": [
        "pred_Y = my_model.predict(test_X, batch_size = 32, verbose = True)\n",
        "pred_Y_cat = np.argmax(pred_Y,-1)\n",
        "test_Y_cat = np.argmax(test_Y, -1)"
      ],
      "execution_count": 0,
      "outputs": []
    },
    {
      "cell_type": "code",
      "metadata": {
        "id": "X4-8sH9zSXTy",
        "colab_type": "code",
        "outputId": "625c54e8-c662-41f8-c1d4-58b7675eb301",
        "colab": {
          "base_uri": "https://localhost:8080/",
          "height": 569
        }
      },
      "source": [
        "from sklearn.metrics import classification_report, confusion_matrix\n",
        "plt.matshow(confusion_matrix(test_Y_cat, pred_Y_cat))\n",
        "print(classification_report(test_Y_cat, pred_Y_cat, target_names = class_enc.classes_))"
      ],
      "execution_count": 0,
      "outputs": [
        {
          "output_type": "stream",
          "text": [
            "              precision    recall  f1-score   support\n",
            "\n",
            "        ARCH       0.00      0.00      0.00         5\n",
            "        ASYM       0.00      0.00      0.00         3\n",
            "        CALC       0.27      0.38      0.32         8\n",
            "        CIRC       0.50      0.50      0.50         6\n",
            "        MISC       0.33      0.50      0.40         4\n",
            "        NORM       0.68      0.69      0.69        52\n",
            "        SPIC       0.33      0.20      0.25         5\n",
            "\n",
            "   micro avg       0.54      0.54      0.54        83\n",
            "   macro avg       0.30      0.32      0.31        83\n",
            "weighted avg       0.52      0.54      0.53        83\n",
            "\n"
          ],
          "name": "stdout"
        },
        {
          "output_type": "stream",
          "text": [
            "/usr/local/lib/python3.6/dist-packages/sklearn/metrics/classification.py:1143: UndefinedMetricWarning: Precision and F-score are ill-defined and being set to 0.0 in labels with no predicted samples.\n",
            "  'precision', 'predicted', average, warn_for)\n"
          ],
          "name": "stderr"
        },
        {
          "output_type": "display_data",
          "data": {
            "image/png": "[encoded data removed]",
            "text/plain": [
              "<Figure size 288x288 with 1 Axes>"
            ]
          },
          "metadata": {
            "tags": []
          }
        }
      ]
    },
    {
      "cell_type": "code",
      "metadata": {
        "id": "I6p6Ho1ASXUA",
        "colab_type": "code",
        "outputId": "7af62288-7eee-4134-cc91-916c31cdd341",
        "colab": {
          "base_uri": "https://localhost:8080/",
          "height": 225
        }
      },
      "source": [
        "!ls -al \n"
      ],
      "execution_count": 0,
      "outputs": [
        {
          "output_type": "stream",
          "text": [
            "total 1779108\n",
            "drwxr-xr-x 1 root root      4096 Jan 24 19:26 .\n",
            "drwxr-xr-x 1 root root      4096 Jan 24 12:59 ..\n",
            "-rw-r--r-- 1 root root      2511 Jan 24 19:26 adc.json\n",
            "-rw-r--r-- 1 root root 105073120 Jan 24 13:00 all_mias_scans.h5\n",
            "-rw-r--r-- 1 root root 105073120 Jan 24 13:03 all_mias_scans.h5.1\n",
            "drwxr-xr-x 1 root root      4096 Jan 24 19:26 .config\n",
            "-rw-r--r-- 1 root root 537195972 Jan 24 17:38 mammo_result_weights.best.hdf5\n",
            "-rw-r--r-- 1 root root 537195972 Jan 24 15:11 model_weights.h5\n",
            "-rw-r--r-- 1 root root 537195972 Jan 24 19:07 model_weights_last_trainning.hdf5\n",
            "drwxr-xr-x 1 root root      4096 Jan  8 17:15 sample_data\n",
            "drwxr-xr-x 2 root root     12288 Jan 24 13:04 tiffs\n"
          ],
          "name": "stdout"
        }
      ]
    },
    {
      "cell_type": "code",
      "metadata": {
        "id": "L4SpQsX3lOpX",
        "colab_type": "code",
        "colab": {}
      },
      "source": [
        ""
      ],
      "execution_count": 0,
      "outputs": []
    }
  ]
}